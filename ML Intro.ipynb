{
 "cells": [
  {
   "cell_type": "markdown",
   "id": "18e35353-96d9-4d4e-ac85-fc3497a063ed",
   "metadata": {},
   "source": [
    "Q1)"
   ]
  },
  {
   "cell_type": "markdown",
   "id": "bb70a5ca-c287-415e-a5a5-e5498712a022",
   "metadata": {},
   "source": [
    "1)Artificial intelligence is a intelligence which stimulate human based funcions based on data. Ex:Face detection,Autocorrector etc.\n",
    "2)Machine Learning: Is a tool which gives answers to the questions asked based on the data prediction and inference. EX: Search result,shopping recommendations etc.\n",
    "3)Deep Learning is a subset of Machine Learning which analyze human behaviour based on data.\n",
    "\n"
   ]
  },
  {
   "cell_type": "markdown",
   "id": "39790d54-2c4b-4a1a-b05c-6d3305cb98f8",
   "metadata": {},
   "source": [
    "Q2)"
   ]
  },
  {
   "cell_type": "markdown",
   "id": "ffc1c3a6-5f8a-4eda-8def-0b16c607943a",
   "metadata": {},
   "source": [
    "Supervised learning is a subcategory of machine learning and artificial intelligence. It uses datasets to train algorithms to classify data or predict outcomes accurately. Ex:Spam filter,fraud detection systems,recommendation engines,nd image recognition systems."
   ]
  },
  {
   "cell_type": "markdown",
   "id": "d2849c6e-5319-4666-9edf-797cc22e0a50",
   "metadata": {},
   "source": [
    "Q3)\n",
    "\n",
    "Unsupervised learning, also known as unsupervised machine learning, uses machine learning algorithms to analyze and cluster unlabeled datasets. These algorithms discover hidden patterns or data groupings without the need for human intervention.Unsupervised learning, also known as unsupervised machine learning, uses machine learning algorithms to analyze and cluster unlabeled datasets.\n",
    "EX:Csutomer segmentation,DNA clustering."
   ]
  },
  {
   "cell_type": "markdown",
   "id": "ad075f9f-a529-49cb-b6c0-5f908f55d132",
   "metadata": {},
   "source": [
    "Q4)\n",
    "\n",
    "AI enables machines to think by understanding,learning from the data and taking decisions based on patterns hidden in the data.\n",
    "ML is subset of AI which provides tools and techines like supervised, unsupervised and reinforcement.\n",
    "DL is further subset of machine learning which try to mimic human brain.\n",
    "Data Science is basically drawing insights from structured and unstructured data either using ML,DL or anything else.\n",
    "\n",
    "\n"
   ]
  },
  {
   "cell_type": "markdown",
   "id": "e36e7fb6-cae0-4955-9255-c8ba6db9f1bf",
   "metadata": {},
   "source": [
    "Q5)"
   ]
  },
  {
   "cell_type": "markdown",
   "id": "1a608f12-ca3b-4b9f-8e25-0209b68a0c3f",
   "metadata": {},
   "source": [
    "Supervised uses labeled data , unsupervised uses unlabeled data and semi supervised uses mixture of both."
   ]
  },
  {
   "cell_type": "markdown",
   "id": "e3890831-d84b-4e41-bc11-7e0c703e478d",
   "metadata": {},
   "source": [
    "Q6)\n",
    "\n",
    "Train set is a dataset used to train the model that is to fit the data to the machine learning model.\n",
    "Test dataset is use to provide an unbiased evauation of a final model fitted on the training dataset.\n",
    "Validation dataset is used to provide a unbiased evaluation of model fitted on the training dataset."
   ]
  },
  {
   "cell_type": "markdown",
   "id": "05bd9a34-5b1a-45ae-8232-0f2b5327aca5",
   "metadata": {},
   "source": [
    "Q7)\n",
    "\n",
    "Anomaly detection techniques of unsupervised nature assume that normal data points occur considerably more frequently than anomalous data points. This assumption is used to classify data points that occur less frequently as anomalies. Unsupervised techniques assign each data point a score instead of a label."
   ]
  },
  {
   "cell_type": "markdown",
   "id": "2f0353e3-f294-4297-9f21-5c5cc4cfd15b",
   "metadata": {},
   "source": [
    "Q8)\n",
    "\n",
    "\n",
    "supervised-decision tree,logistic regression,linear regression.\n",
    "unsupervised learning-K-means clustering,hierarchical clustering,and apriori algorithm."
   ]
  }
 ],
 "metadata": {
  "kernelspec": {
   "display_name": "Python 3 (ipykernel)",
   "language": "python",
   "name": "python3"
  },
  "language_info": {
   "codemirror_mode": {
    "name": "ipython",
    "version": 3
   },
   "file_extension": ".py",
   "mimetype": "text/x-python",
   "name": "python",
   "nbconvert_exporter": "python",
   "pygments_lexer": "ipython3",
   "version": "3.10.8"
  }
 },
 "nbformat": 4,
 "nbformat_minor": 5
}
